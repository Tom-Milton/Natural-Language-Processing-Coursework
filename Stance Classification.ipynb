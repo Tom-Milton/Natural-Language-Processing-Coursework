{
 "cells": [
  {
   "attachments": {},
   "cell_type": "markdown",
   "metadata": {},
   "source": [
    "### Imports"
   ]
  },
  {
   "cell_type": "code",
   "execution_count": 2,
   "metadata": {},
   "outputs": [
    {
     "data": {
      "text/plain": [
       "<torch._C.Generator at 0x1c8f6add390>"
      ]
     },
     "execution_count": 2,
     "metadata": {},
     "output_type": "execute_result"
    }
   ],
   "source": [
    "import time\n",
    "import string\n",
    "import numpy as np\n",
    "import pandas as pd\n",
    "from tqdm import tqdm\n",
    "from scipy.sparse import hstack\n",
    "\n",
    "from sentence_transformers import SentenceTransformer\n",
    "\n",
    "from sklearn.feature_extraction.text import TfidfVectorizer\n",
    "from sklearn.model_selection import train_test_split, GridSearchCV\n",
    "from sklearn.metrics import classification_report, balanced_accuracy_score\n",
    "from sklearn.utils.class_weight import compute_class_weight\n",
    "\n",
    "from sklearn.ensemble import RandomForestClassifier\n",
    "from sklearn.neural_network import MLPClassifier\n",
    "\n",
    "import torch\n",
    "import torch.nn as nn\n",
    "import torch.nn.functional as F\n",
    "import torch.optim as optim\n",
    "from torch.utils.data import Dataset, DataLoader\n",
    "torch.manual_seed(42)"
   ]
  },
  {
   "attachments": {},
   "cell_type": "markdown",
   "metadata": {},
   "source": [
    "### Load and Preprocess Data"
   ]
  },
  {
   "cell_type": "code",
   "execution_count": 2,
   "metadata": {},
   "outputs": [
    {
     "name": "stderr",
     "output_type": "stream",
     "text": [
      "C:\\Users\\Tom\\AppData\\Local\\Temp\\ipykernel_4396\\2691946847.py:14: FutureWarning: The default value of regex will change from True to False in a future version.\n",
      "  preprocessed_df['Headline'] = preprocessed_df['Headline'].str.replace(f'[{string.punctuation}]', '')\n",
      "C:\\Users\\Tom\\AppData\\Local\\Temp\\ipykernel_4396\\2691946847.py:15: FutureWarning: The default value of regex will change from True to False in a future version.\n",
      "  preprocessed_df['ArticleBody'] = preprocessed_df['ArticleBody'].str.replace(f'[{string.punctuation}]', '')\n"
     ]
    },
    {
     "data": {
      "image/png": "[encoded data removed]",
      "text/plain": [
       "<Figure size 640x480 with 1 Axes>"
      ]
     },
     "metadata": {},
     "output_type": "display_data"
    }
   ],
   "source": [
    "# Load dataframe\n",
    "unprocessed_df = pd.read_csv('./train.csv')\n",
    "preprocessed_df = unprocessed_df.copy()\n",
    "\n",
    "# Plot imbalanced data\n",
    "ax = unprocessed_df['Stance'].value_counts().plot.bar()\n",
    "ax.set_xlabel('Stance'); ax.set_ylabel('Frequency')\n",
    "\n",
    "# Lowercase\n",
    "preprocessed_df['Headline'] = preprocessed_df['Headline'].str.lower()\n",
    "preprocessed_df['ArticleBody'] = preprocessed_df['ArticleBody'].str.lower()\n",
    "\n",
    "# Remove punctuation\n",
    "preprocessed_df['Headline'] = preprocessed_df['Headline'].str.replace(f'[{string.punctuation}]', '')\n",
    "preprocessed_df['ArticleBody'] = preprocessed_df['ArticleBody'].str.replace(f'[{string.punctuation}]', '')\n",
    "\n",
    "# Remove new line \\n\n",
    "preprocessed_df['Headline'] = preprocessed_df['Headline'].str.replace('\\n', '')\n",
    "preprocessed_df['ArticleBody'] = preprocessed_df['ArticleBody'].str.replace('\\n', '')\n",
    "\n",
    "# # Remove stopwords\n",
    "# preprocessed_df['Headline'] = preprocessed_df['Headline'].apply(lambda x: ' '.join([word for word in x.split() if word not in (stopwords.words('english'))]))\n",
    "# preprocessed_df['ArticleBody'] = preprocessed_df['ArticleBody'].apply(lambda x: ' '.join([word for word in x.split() if word not in (stopwords.words('english'))]))"
   ]
  },
  {
   "cell_type": "code",
   "execution_count": 3,
   "metadata": {},
   "outputs": [],
   "source": [
    "# Reserve tf-idf test set for task 3 - full pipeline\n",
    "X_tf_idf_3, y_tf_idf_3 = preprocessed_df[['Headline', 'ArticleBody']], preprocessed_df['Stance']\n",
    "X_train_tf_idf_3, X_test_tf_idf_3, y_train_tf_idf_3, y_test_tf_idf_3 = train_test_split(X_tf_idf_3, y_tf_idf_3, test_size=0.25, random_state=42)\n",
    "preprocessed_df_train = pd.concat([X_train_tf_idf_3, y_train_tf_idf_3], axis=1)  # Train set for tasks 1 and 2\n",
    "\n",
    "# Reserve bert test set for task 3 - full pipeline\n",
    "X_bert_3, y_bert_3 = unprocessed_df[['Headline', 'ArticleBody']], unprocessed_df['Stance']\n",
    "X_train_bert_3, X_test_bert_3, y_train_bert_3, y_test_bert_3 = train_test_split(X_bert_3, y_bert_3, test_size=0.25, random_state=42)\n",
    "unprocessed_df_train = pd.concat([X_train_bert_3, y_train_bert_3], axis=1) # Train set for tasks 1 and 2"
   ]
  },
  {
   "attachments": {},
   "cell_type": "markdown",
   "metadata": {},
   "source": [
    "### Task 1 - Related/Unrelated"
   ]
  },
  {
   "cell_type": "code",
   "execution_count": 4,
   "metadata": {},
   "outputs": [],
   "source": [
    "# Get only related/unrelated articles for tf-idf\n",
    "preprocessed_related_unrelated_df = preprocessed_df_train.copy()\n",
    "preprocessed_related_unrelated_df['Stance'].replace(['agree', 'disagree', 'discuss'], ['related', 'related', 'related'], inplace=True)\n",
    "\n",
    "# Get only related/unrelated articles for BERT\n",
    "unprocessed_related_unrelated_df = unprocessed_df_train.copy()\n",
    "unprocessed_related_unrelated_df['Stance'].replace(['agree', 'disagree', 'discuss'], ['related', 'related', 'related'], inplace=True)\n",
    "\n",
    "# Train test split data for tf-idf\n",
    "X_tf_idf_1, y_tf_idf_1 = preprocessed_related_unrelated_df[['Headline', 'ArticleBody']], preprocessed_related_unrelated_df['Stance']\n",
    "X_train_tf_idf_1, X_test_tf_idf_1, y_train_tf_idf_1, y_test_tf_idf_1 = train_test_split(X_tf_idf_1, y_tf_idf_1, test_size=0.25, random_state=42)\n",
    "\n",
    "# Train test split data for BERT\n",
    "X_bert_1, y_bert_1 = unprocessed_related_unrelated_df[['Headline', 'ArticleBody']], unprocessed_related_unrelated_df['Stance']\n",
    "X_train_bert_1, X_test_bert_1, y_train_bert_1, y_test_bert_1 = train_test_split(X_bert_1, y_bert_1, test_size=0.25, random_state=42)"
   ]
  },
  {
   "attachments": {},
   "cell_type": "markdown",
   "metadata": {},
   "source": [
    "Tf-idf and BERT Feature Extraction"
   ]
  },
  {
   "cell_type": "code",
   "execution_count": 5,
   "metadata": {},
   "outputs": [],
   "source": [
    "def get_tf_idf_vectoriser(X_train_tf_idf):\n",
    "    # Get corpus and vocabulary\n",
    "    corpus = np.concatenate([X_train_tf_idf['Headline'].to_numpy(), X_train_tf_idf['ArticleBody'].to_numpy()], axis=0)\n",
    "    vocabulary = list(set([word for sentence in corpus for word in sentence.split(' ')]))\n",
    "\n",
    "    # Fit tf-idf on train data\n",
    "    vectorizer = TfidfVectorizer()\n",
    "    corpus = np.concatenate([X_train_tf_idf['Headline'].to_numpy(), X_train_tf_idf['ArticleBody'].to_numpy()], axis=0)\n",
    "    vectorizer.fit(corpus)\n",
    "\n",
    "    return vectorizer"
   ]
  },
  {
   "cell_type": "code",
   "execution_count": 6,
   "metadata": {},
   "outputs": [],
   "source": [
    "def get_bert_vectoriser():\n",
    "    # Get pre-trained BERT model\n",
    "    vectorizer = SentenceTransformer('paraphrase-MiniLM-L3-v2')\n",
    "\n",
    "    return vectorizer"
   ]
  },
  {
   "cell_type": "code",
   "execution_count": 7,
   "metadata": {},
   "outputs": [],
   "source": [
    "tf_idf_vectorizer = get_tf_idf_vectoriser(X_train_tf_idf_1)\n",
    "bert_vectorizer = get_bert_vectoriser()"
   ]
  },
  {
   "cell_type": "code",
   "execution_count": 8,
   "metadata": {},
   "outputs": [],
   "source": [
    "def vectorise_tf_idf(X_train_tf_idf, X_test_tf_idf, vectorizer):\n",
    "    # Vectorise training/testing data (sparse csr)\n",
    "    X_train_tf_idf = hstack((vectorizer.transform(X_train_tf_idf['Headline'].to_numpy()), vectorizer.transform(X_train_tf_idf['ArticleBody'].to_numpy())))\n",
    "    X_test_tf_idf = hstack((vectorizer.transform(X_test_tf_idf['Headline'].to_numpy()), vectorizer.transform(X_test_tf_idf['ArticleBody'].to_numpy())))\n",
    "\n",
    "    print('tf_idf X_train shape:\\t', X_train_tf_idf.shape)\n",
    "    print('tf_idf X_test shape:\\t', X_test_tf_idf.shape)\n",
    "\n",
    "    return X_train_tf_idf, X_test_tf_idf"
   ]
  },
  {
   "cell_type": "code",
   "execution_count": 9,
   "metadata": {},
   "outputs": [],
   "source": [
    "def vectorise_bert(X_train_bert, X_test_bert, vectorizer):\n",
    "    # Vectorise training/testing data (dense)\n",
    "    X_train_bert = np.hstack((vectorizer.encode(X_train_bert['Headline'].to_numpy(), show_progress_bar=True), vectorizer.encode(X_train_bert['ArticleBody'].to_numpy(), show_progress_bar=True)))\n",
    "    X_test_bert = np.hstack((vectorizer.encode(X_test_bert['Headline'].to_numpy(), show_progress_bar=True), vectorizer.encode(X_test_bert['ArticleBody'].to_numpy(), show_progress_bar=True)))\n",
    "\n",
    "    print('bert X_train shape:\\t', X_train_bert.shape)\n",
    "    print('bert X_test shape:\\t', X_test_bert.shape)\n",
    "\n",
    "    return X_train_bert, X_test_bert"
   ]
  },
  {
   "cell_type": "code",
   "execution_count": 10,
   "metadata": {},
   "outputs": [
    {
     "name": "stdout",
     "output_type": "stream",
     "text": [
      "tf_idf X_train shape:\t (28109, 74214)\n",
      "tf_idf X_test shape:\t (9370, 74214)\n"
     ]
    },
    {
     "name": "stderr",
     "output_type": "stream",
     "text": [
      "Batches: 100%|██████████| 879/879 [01:29<00:00,  9.81it/s]\n",
      "Batches: 100%|██████████| 879/879 [11:15<00:00,  1.30it/s]\n",
      "Batches: 100%|██████████| 293/293 [00:36<00:00,  8.02it/s]\n",
      "Batches: 100%|██████████| 293/293 [04:00<00:00,  1.22it/s]\n"
     ]
    },
    {
     "name": "stdout",
     "output_type": "stream",
     "text": [
      "bert X_train shape:\t (28109, 768)\n",
      "bert X_test shape:\t (9370, 768)\n"
     ]
    }
   ],
   "source": [
    "X_train_tf_idf_1, X_test_tf_idf_1 = vectorise_tf_idf(X_train_tf_idf_1, X_test_tf_idf_1, tf_idf_vectorizer)\n",
    "X_train_bert_1, X_test_bert_1 = vectorise_bert(X_train_bert_1, X_test_bert_1, bert_vectorizer)"
   ]
  },
  {
   "attachments": {},
   "cell_type": "markdown",
   "metadata": {},
   "source": [
    "ML and DL Classification"
   ]
  },
  {
   "cell_type": "code",
   "execution_count": 11,
   "metadata": {},
   "outputs": [],
   "source": [
    "def esitmate_gridsearch_time(model, X_train, y_train, param_grid:dict, n_jobs:int=1, cv:int=5):\n",
    "    times = []\n",
    "    for _ in range(5):\n",
    "        start = time.time()\n",
    "        model.fit(X_train, y_train)\n",
    "        model.score(X_train, y_train)\n",
    "        end = time.time()\n",
    "        times.append(end - start)\n",
    "\n",
    "    single_train_time = np.array(times).mean()\n",
    "\n",
    "    combos = 1\n",
    "    for vals in param_grid.values():\n",
    "        combos *= len(vals)\n",
    "\n",
    "    num_models = combos * cv / n_jobs\n",
    "    seconds = num_models * single_train_time\n",
    "    minutes = seconds / 60\n",
    "    hours = minutes / 60\n",
    "\n",
    "    print(hours, minutes, seconds)"
   ]
  },
  {
   "cell_type": "code",
   "execution_count": 12,
   "metadata": {},
   "outputs": [],
   "source": [
    "def hyperparameter_tuning(clf, X_train, y_train):\n",
    "    if type(clf).__name__ == 'RandomForestClassifier':\n",
    "        param_grid = {\n",
    "            'n_estimators': [25, 50, 100],\n",
    "            'max_features': ['sqrt', 'log2', None],\n",
    "            'max_depth': [3, 6, 9, None],\n",
    "            'max_leaf_nodes': [3, 6, 9, None]}\n",
    "    elif type(clf).__name__ == 'MLPClassifier':\n",
    "        param_grid = {\n",
    "            'hidden_layer_sizes': [(256,), (512,), (1024,)],\n",
    "            'activation': ['tanh', 'relu'],\n",
    "            'solver': ['sgd', 'adam'],\n",
    "            'alpha': [0.001, 0.01],\n",
    "            'learning_rate': ['constant','adaptive'],\n",
    "            'learning_rate_init': [0.001, 0.01]}\n",
    "          \n",
    "    esitmate_gridsearch_time(clf, X_train, y_train, param_grid, n_jovs=1, cv=5)\n",
    "    grid_search = GridSearchCV(clf, param_grid, scoring='balanced_accuracy', n_jobs=1, cv=5, verbose=1)\n",
    "    grid_search.fit(X_train, y_train)\n",
    "\n",
    "    print('Best parameters', grid_search.best_params_, 'with score', grid_search.best_score_, '\\n')\n",
    "\n",
    "    return grid_search.best_params_"
   ]
  },
  {
   "cell_type": "code",
   "execution_count": 13,
   "metadata": {},
   "outputs": [],
   "source": [
    "def training_testing(clf, X_train, X_test, y_train, y_test):\n",
    "    clf.fit(X_train, y_train)\n",
    "    y_pred = clf.predict(X_test)\n",
    "\n",
    "    print(classification_report(y_test, y_pred))\n",
    "    print('Balanced accuracy score:', balanced_accuracy_score(y_test, y_pred), '\\n')\n",
    "\n",
    "    return clf"
   ]
  },
  {
   "cell_type": "code",
   "execution_count": 14,
   "metadata": {},
   "outputs": [
    {
     "name": "stdout",
     "output_type": "stream",
     "text": [
      "              precision    recall  f1-score   support\n",
      "\n",
      "     related       0.96      0.82      0.89      2505\n",
      "   unrelated       0.94      0.99      0.96      6865\n",
      "\n",
      "    accuracy                           0.94      9370\n",
      "   macro avg       0.95      0.90      0.92      9370\n",
      "weighted avg       0.94      0.94      0.94      9370\n",
      "\n",
      "Balanced accuracy score: 0.9048761908084777 \n",
      "\n",
      "              precision    recall  f1-score   support\n",
      "\n",
      "     related       0.99      0.97      0.98      2505\n",
      "   unrelated       0.99      0.99      0.99      6865\n",
      "\n",
      "    accuracy                           0.99      9370\n",
      "   macro avg       0.99      0.98      0.99      9370\n",
      "weighted avg       0.99      0.99      0.99      9370\n",
      "\n",
      "Balanced accuracy score: 0.9834787816937138 \n",
      "\n",
      "              precision    recall  f1-score   support\n",
      "\n",
      "     related       0.99      0.85      0.92      2505\n",
      "   unrelated       0.95      1.00      0.97      6865\n",
      "\n",
      "    accuracy                           0.96      9370\n",
      "   macro avg       0.97      0.92      0.94      9370\n",
      "weighted avg       0.96      0.96      0.96      9370\n",
      "\n",
      "Balanced accuracy score: 0.9243835708044944 \n",
      "\n",
      "              precision    recall  f1-score   support\n",
      "\n",
      "     related       0.98      0.99      0.99      2505\n",
      "   unrelated       1.00      0.99      1.00      6865\n",
      "\n",
      "    accuracy                           0.99      9370\n",
      "   macro avg       0.99      0.99      0.99      9370\n",
      "weighted avg       0.99      0.99      0.99      9370\n",
      "\n",
      "Balanced accuracy score: 0.9936017258999845 \n",
      "\n"
     ]
    }
   ],
   "source": [
    "clf_tf_idf_rfc_1 = training_testing(RandomForestClassifier(random_state=42), X_train_tf_idf_1, X_test_tf_idf_1, y_train_tf_idf_1, y_test_tf_idf_1)\n",
    "clf_tf_idf_mlp_1 = training_testing(MLPClassifier(random_state=42), X_train_tf_idf_1, X_test_tf_idf_1, y_train_tf_idf_1, y_test_tf_idf_1)\n",
    "clf_bert_rfc_1 = training_testing(RandomForestClassifier(random_state=42), X_train_bert_1, X_test_bert_1, y_train_bert_1, y_test_bert_1)\n",
    "clf_bert_mlp_1 = training_testing(MLPClassifier(random_state=42), X_train_bert_1, X_test_bert_1, y_train_bert_1, y_test_bert_1)"
   ]
  },
  {
   "attachments": {},
   "cell_type": "markdown",
   "metadata": {},
   "source": [
    "### Task 2 - Agree/Disagree/Discuss"
   ]
  },
  {
   "cell_type": "code",
   "execution_count": 15,
   "metadata": {},
   "outputs": [],
   "source": [
    "# Get only related articles for tf-idf\n",
    "preprocessed_related_df = preprocessed_df_train.copy()\n",
    "preprocessed_related_df = preprocessed_related_df[preprocessed_related_df['Stance'] != 'unrelated']\n",
    "\n",
    "# Get only related/unrelated articles for bert\n",
    "unprocessed_related_df = unprocessed_df_train.copy()\n",
    "unprocessed_related_df = unprocessed_related_df[unprocessed_related_df['Stance'] != 'unrelated']\n",
    "\n",
    "# Train test split data for tf-idf\n",
    "X_tf_idf_2, y_tf_idf_2 = preprocessed_related_df[['Headline', 'ArticleBody']], preprocessed_related_df['Stance']\n",
    "X_train_tf_idf_2, X_test_tf_idf_2, y_train_tf_idf_2, y_test_tf_idf_2 = train_test_split(X_tf_idf_2, y_tf_idf_2, test_size=0.25, random_state=42)\n",
    "\n",
    "# Train test split data for BERT\n",
    "X_bert_2, y_bert_2 = unprocessed_related_df[['Headline', 'ArticleBody']], unprocessed_related_df['Stance']\n",
    "X_train_bert_2, X_test_bert_2, y_train_bert_2, y_test_bert_2 = train_test_split(X_bert_2, y_bert_2, test_size=0.25, random_state=42)"
   ]
  },
  {
   "cell_type": "code",
   "execution_count": 16,
   "metadata": {},
   "outputs": [
    {
     "name": "stdout",
     "output_type": "stream",
     "text": [
      "tf_idf X_train shape:\t (7548, 74214)\n",
      "tf_idf X_test shape:\t (2516, 74214)\n"
     ]
    },
    {
     "name": "stderr",
     "output_type": "stream",
     "text": [
      "Batches: 100%|██████████| 236/236 [00:37<00:00,  6.28it/s]\n",
      "Batches: 100%|██████████| 236/236 [03:49<00:00,  1.03it/s]\n",
      "Batches: 100%|██████████| 79/79 [00:11<00:00,  6.76it/s]\n",
      "Batches: 100%|██████████| 79/79 [01:10<00:00,  1.13it/s]\n"
     ]
    },
    {
     "name": "stdout",
     "output_type": "stream",
     "text": [
      "bert X_train shape:\t (7548, 768)\n",
      "bert X_test shape:\t (2516, 768)\n"
     ]
    }
   ],
   "source": [
    "X_train_tf_idf_2, X_test_tf_idf_2 = vectorise_tf_idf(X_train_tf_idf_2, X_test_tf_idf_2, tf_idf_vectorizer)\n",
    "X_train_bert_2, X_test_bert_2 = vectorise_bert(X_train_bert_2, X_test_bert_2, bert_vectorizer)"
   ]
  },
  {
   "cell_type": "code",
   "execution_count": 17,
   "metadata": {},
   "outputs": [
    {
     "name": "stdout",
     "output_type": "stream",
     "text": [
      "              precision    recall  f1-score   support\n",
      "\n",
      "       agree       0.75      0.73      0.74       725\n",
      "    disagree       0.52      0.43      0.47       129\n",
      "     discuss       0.89      0.91      0.90      1662\n",
      "\n",
      "    accuracy                           0.83      2516\n",
      "   macro avg       0.72      0.69      0.70      2516\n",
      "weighted avg       0.83      0.83      0.83      2516\n",
      "\n",
      "Balanced accuracy score: 0.6874662495243297 \n",
      "\n",
      "              precision    recall  f1-score   support\n",
      "\n",
      "       agree       0.92      0.92      0.92       725\n",
      "    disagree       0.71      0.73      0.72       129\n",
      "     discuss       0.98      0.98      0.98      1662\n",
      "\n",
      "    accuracy                           0.95      2516\n",
      "   macro avg       0.87      0.87      0.87      2516\n",
      "weighted avg       0.95      0.95      0.95      2516\n",
      "\n",
      "Balanced accuracy score: 0.8744950914686221 \n",
      "\n",
      "              precision    recall  f1-score   support\n",
      "\n",
      "       agree       0.86      0.77      0.81       725\n",
      "    disagree       0.76      0.46      0.57       129\n",
      "     discuss       0.90      0.97      0.93      1662\n",
      "\n",
      "    accuracy                           0.89      2516\n",
      "   macro avg       0.84      0.73      0.77      2516\n",
      "weighted avg       0.88      0.89      0.88      2516\n",
      "\n",
      "Balanced accuracy score: 0.7327715293278277 \n",
      "\n",
      "              precision    recall  f1-score   support\n",
      "\n",
      "       agree       0.89      0.87      0.88       725\n",
      "    disagree       0.72      0.63      0.67       129\n",
      "     discuss       0.95      0.96      0.95      1662\n",
      "\n",
      "    accuracy                           0.92      2516\n",
      "   macro avg       0.85      0.82      0.84      2516\n",
      "weighted avg       0.92      0.92      0.92      2516\n",
      "\n",
      "Balanced accuracy score: 0.8218956558717254 \n",
      "\n"
     ]
    }
   ],
   "source": [
    "clf_tf_idf_rfc_2 = training_testing(RandomForestClassifier(random_state=42), X_train_tf_idf_2, X_test_tf_idf_2, y_train_tf_idf_2, y_test_tf_idf_2)\n",
    "clf_tf_idf_mlp_2 = training_testing(MLPClassifier(random_state=42), X_train_tf_idf_2, X_test_tf_idf_2, y_train_tf_idf_2, y_test_tf_idf_2)\n",
    "\n",
    "clf_bert_rfc_2 = training_testing(RandomForestClassifier(random_state=42), X_train_bert_2, X_test_bert_2, y_train_bert_2, y_test_bert_2)\n",
    "clf_bert_mlp_2 = training_testing(MLPClassifier(random_state=42), X_train_bert_2, X_test_bert_2, y_train_bert_2, y_test_bert_2)"
   ]
  },
  {
   "cell_type": "code",
   "execution_count": 18,
   "metadata": {},
   "outputs": [],
   "source": [
    "# # Hyperparameter tune for balanced accuracy (only bert as tf-idf too time expensive)\n",
    "# clf_bert_rfc_params_2 = hyperparameter_tuning(RandomForestClassifier(random_state=42), X_train_bert_2, y_train_bert_2)\n",
    "# clf_bert_mlp_params_2 = hyperparameter_tuning(MLPClassifier(random_state=42), X_train_bert_2, y_train_bert_2)\n",
    "\n",
    "# clf_bert_rfc_tuned_2 = training_testing(RandomForestClassifier(**clf_bert_mlp_params_2), X_train_bert_2, X_test_bert_2, y_train_bert_2, y_test_bert_2)\n",
    "# clf_bert_mlp_tuned_2 = training_testing(MLPClassifier(**clf_bert_mlp_params_2), X_train_bert_2, X_test_bert_2, y_train_bert_2, y_test_bert_2)"
   ]
  },
  {
   "attachments": {},
   "cell_type": "markdown",
   "metadata": {},
   "source": [
    "Custom MLP Classification"
   ]
  },
  {
   "cell_type": "code",
   "execution_count": 19,
   "metadata": {},
   "outputs": [],
   "source": [
    "class Data(Dataset):\n",
    "  def __init__(self, X_train, y_train):\n",
    "    self.X = X_train\n",
    "    self.y = y_train\n",
    "    self.len = self.X.shape[0]\n",
    "  \n",
    "  def __getitem__(self, index):\n",
    "    return self.X[index], self.y[index]\n",
    "    \n",
    "  def __len__(self):\n",
    "    return self.len\n",
    "\n",
    "\n",
    "class Network(nn.Module):\n",
    "  def __init__(self, input_dim, output_dim, hidden_dim):\n",
    "    super(Network, self).__init__()\n",
    "    self.fc1 = nn.Linear(input_dim, hidden_dim)\n",
    "    self.fc2 = nn.Linear(hidden_dim, hidden_dim)\n",
    "    self.fc3 = nn.Linear(hidden_dim, output_dim)\n",
    "    self.droput = nn.Dropout(0.2)\n",
    "\n",
    "  def forward(self, x):\n",
    "    x = F.relu(self.fc1(x))\n",
    "    x = self.droput(x)\n",
    "    x = F.relu(self.fc2(x))\n",
    "    x = self.droput(x)\n",
    "    x = self.fc3(x)\n",
    "\n",
    "    return x"
   ]
  },
  {
   "cell_type": "code",
   "execution_count": 20,
   "metadata": {},
   "outputs": [],
   "source": [
    "def training_testing_custom(X_train, X_test, y_train, y_test):   \n",
    "    input_dim = X_train.shape[1]\n",
    "    output_dim = len(y_train.unique())\n",
    "    hidden_layers = 512\n",
    "    class_weights = compute_class_weight('balanced', classes=np.unique(y_train), y=y_train.numpy())\n",
    "    class_weights = torch.FloatTensor(class_weights)\n",
    "\n",
    "    clf = Network(input_dim, output_dim, hidden_layers)\n",
    "    criterion = nn.CrossEntropyLoss(weight=class_weights, reduction='mean')\n",
    "    optimizer = optim.Adam(clf.parameters())\n",
    "\n",
    "    training_data = Data(X_train, y_train)\n",
    "    training_dataloader = DataLoader(training_data, batch_size=64, shuffle=True)\n",
    "\n",
    "    epochs = 150\n",
    "    for epoch in tqdm(range(epochs)):\n",
    "        # Training\n",
    "        for data in training_dataloader:\n",
    "            inputs, labels = data\n",
    "            optimizer.zero_grad()\n",
    "            outputs = clf(inputs)\n",
    "            loss = criterion(outputs, labels)\n",
    "            loss.backward()\n",
    "            optimizer.step()\n",
    "        \n",
    "        # # Testing\n",
    "        # with torch.no_grad():\n",
    "        #     outputs = clf(X_test)\n",
    "        #     __, y_pred = torch.max(outputs.data, 1)\n",
    "        #     print(epoch, balanced_accuracy_score(y_test, y_pred))\n",
    "    \n",
    "    with torch.no_grad():\n",
    "        outputs = clf(X_test)\n",
    "        __, y_pred = torch.max(outputs.data, 1)\n",
    "    print(classification_report(y_test, y_pred))\n",
    "    print('Balanced accuracy score:', balanced_accuracy_score(y_test, y_pred))\n",
    "\n",
    "    return clf"
   ]
  },
  {
   "cell_type": "code",
   "execution_count": 21,
   "metadata": {},
   "outputs": [],
   "source": [
    "# Convert tf-idf to tensors\n",
    "X_train_tf_idf_2_tensor = torch.FloatTensor(X_train_tf_idf_2.todense())\n",
    "X_test_tf_idf_2_tensor = torch.FloatTensor(X_test_tf_idf_2.todense())\n",
    "y_train_tf_idf_2_tensor = torch.LongTensor(y_train_tf_idf_2.map({'agree': 0, 'disagree': 1, 'discuss': 2}).to_numpy())\n",
    "y_test_tf_idf_2_tensor = torch.LongTensor(y_test_tf_idf_2.map({'agree': 0, 'disagree': 1, 'discuss': 2}).to_numpy())\n",
    "\n",
    "# Convert bert to tensors\n",
    "X_train_bert_2_tensor = torch.FloatTensor(X_train_bert_2)\n",
    "X_test_bert_2_tensor = torch.FloatTensor(X_test_bert_2)\n",
    "y_train_bert_2_tensor = torch.LongTensor(y_train_bert_2.map({'agree': 0, 'disagree': 1, 'discuss': 2}).to_numpy())\n",
    "y_test_bert_2_tensor = torch.LongTensor(y_test_bert_2.map({'agree': 0, 'disagree': 1, 'discuss': 2}).to_numpy())"
   ]
  },
  {
   "cell_type": "code",
   "execution_count": 22,
   "metadata": {},
   "outputs": [
    {
     "name": "stderr",
     "output_type": "stream",
     "text": [
      "100%|██████████| 150/150 [3:34:42<00:00, 85.89s/it]  \n"
     ]
    },
    {
     "name": "stdout",
     "output_type": "stream",
     "text": [
      "              precision    recall  f1-score   support\n",
      "\n",
      "           0       0.90      0.94      0.92       725\n",
      "           1       0.77      0.77      0.77       129\n",
      "           2       0.98      0.97      0.97      1662\n",
      "\n",
      "    accuracy                           0.95      2516\n",
      "   macro avg       0.88      0.89      0.89      2516\n",
      "weighted avg       0.95      0.95      0.95      2516\n",
      "\n",
      "Balanced accuracy score: 0.8910779340131518\n"
     ]
    },
    {
     "name": "stderr",
     "output_type": "stream",
     "text": [
      "100%|██████████| 150/150 [05:08<00:00,  2.06s/it]"
     ]
    },
    {
     "name": "stdout",
     "output_type": "stream",
     "text": [
      "              precision    recall  f1-score   support\n",
      "\n",
      "           0       0.88      0.92      0.90       725\n",
      "           1       0.68      0.78      0.72       129\n",
      "           2       0.97      0.94      0.95      1662\n",
      "\n",
      "    accuracy                           0.93      2516\n",
      "   macro avg       0.84      0.88      0.86      2516\n",
      "weighted avg       0.93      0.93      0.93      2516\n",
      "\n",
      "Balanced accuracy score: 0.878141214003862\n"
     ]
    },
    {
     "name": "stderr",
     "output_type": "stream",
     "text": [
      "\n"
     ]
    }
   ],
   "source": [
    "# Custom deep learning multi-class classifier\n",
    "clf_tf_idf_mlp_custom_2 = training_testing_custom(X_train_tf_idf_2_tensor, X_test_tf_idf_2_tensor, y_train_tf_idf_2_tensor, y_test_tf_idf_2_tensor)\n",
    "clf_bert_mlp_custom_2 = training_testing_custom(X_train_bert_2_tensor, X_test_bert_2_tensor, y_train_bert_2_tensor, y_test_bert_2_tensor)"
   ]
  },
  {
   "attachments": {},
   "cell_type": "markdown",
   "metadata": {},
   "source": [
    "### Task 3 - Full Pipeline"
   ]
  },
  {
   "cell_type": "code",
   "execution_count": 23,
   "metadata": {},
   "outputs": [
    {
     "name": "stdout",
     "output_type": "stream",
     "text": [
      "tf_idf X_train shape:\t (37479, 74214)\n",
      "tf_idf X_test shape:\t (12493, 74214)\n"
     ]
    },
    {
     "name": "stderr",
     "output_type": "stream",
     "text": [
      "Batches: 100%|██████████| 1172/1172 [02:30<00:00,  7.79it/s]\n",
      "Batches: 100%|██████████| 1172/1172 [17:39<00:00,  1.11it/s]\n",
      "Batches: 100%|██████████| 391/391 [00:52<00:00,  7.52it/s]\n",
      "Batches: 100%|██████████| 391/391 [05:50<00:00,  1.11it/s]\n"
     ]
    },
    {
     "name": "stdout",
     "output_type": "stream",
     "text": [
      "bert X_train shape:\t (37479, 768)\n",
      "bert X_test shape:\t (12493, 768)\n"
     ]
    }
   ],
   "source": [
    "# Vectorise w.r.t tf_idf and bert\n",
    "X_train_tf_idf_3, X_test_tf_idf_3 = vectorise_tf_idf(X_train_tf_idf_3, X_test_tf_idf_3, tf_idf_vectorizer)\n",
    "X_train_bert_3, X_test_bert_3 = vectorise_bert(X_train_bert_3, X_test_bert_3, bert_vectorizer)"
   ]
  },
  {
   "cell_type": "code",
   "execution_count": 24,
   "metadata": {},
   "outputs": [],
   "source": [
    "def full_pipeline(clf_1, clf_2, X_test_clf_1, y_test_clf_1, x_test_clf_2, y_test_clf_2):\n",
    "    # Predict related/unrelated label\n",
    "    task_1_y_pred = clf_1.predict(X_test_clf_1)\n",
    "\n",
    "    # Get only the related predictions from task 1\n",
    "    X_test_subset = [np.squeeze(np.asarray(a)) for a, b in zip(x_test_clf_2.todense(), task_1_y_pred) if b != 'unrelated']\n",
    "\n",
    "    # Predict related label\n",
    "    task_2_y_pred = iter(torch.max(clf_2(torch.FloatTensor(X_test_subset)), 1)[1].detach().numpy())\n",
    "\n",
    "    # Combine task 1 and 2 predictions\n",
    "    task_3_y_pred = [task_1_pred if task_1_pred == 'unrelated' else next(task_2_y_pred) for task_1_pred in task_1_y_pred]\n",
    "\n",
    "    # Un-map numerical classes\n",
    "    task_3_y_pred = pd.Series(task_3_y_pred).map({0:'agree', 1:'disagree', 2:'discuss', 'unrelated':'unrelated'}).to_numpy()\n",
    "\n",
    "    # Scoring\n",
    "    print(classification_report(y_test_clf_1, task_3_y_pred))\n",
    "    print('Balanced accuracy score:', balanced_accuracy_score(y_test_clf_1, task_3_y_pred), '\\n')"
   ]
  },
  {
   "cell_type": "code",
   "execution_count": 25,
   "metadata": {},
   "outputs": [
    {
     "name": "stderr",
     "output_type": "stream",
     "text": [
      "C:\\Users\\Tom\\AppData\\Local\\Temp\\ipykernel_4396\\3966589249.py:9: UserWarning: Creating a tensor from a list of numpy.ndarrays is extremely slow. Please consider converting the list to a single numpy.ndarray with numpy.array() before converting to a tensor. (Triggered internally at C:\\actions-runner\\_work\\pytorch\\pytorch\\builder\\windows\\pytorch\\torch\\csrc\\utils\\tensor_new.cpp:233.)\n",
      "  task_2_y_pred = iter(torch.max(clf_2(torch.FloatTensor(X_test_subset)), 1)[1].detach().numpy())\n"
     ]
    },
    {
     "name": "stdout",
     "output_type": "stream",
     "text": [
      "              precision    recall  f1-score   support\n",
      "\n",
      "       agree       0.87      0.92      0.89       910\n",
      "    disagree       0.79      0.77      0.78       230\n",
      "     discuss       0.97      0.96      0.97      2223\n",
      "   unrelated       1.00      0.99      1.00      9130\n",
      "\n",
      "    accuracy                           0.98     12493\n",
      "   macro avg       0.91      0.91      0.91     12493\n",
      "weighted avg       0.98      0.98      0.98     12493\n",
      "\n",
      "Balanced accuracy score: 0.9110864945236757 \n",
      "\n"
     ]
    }
   ],
   "source": [
    "full_pipeline(clf_bert_mlp_1, clf_tf_idf_mlp_custom_2, X_test_bert_3, y_test_bert_3, X_test_tf_idf_3, y_test_tf_idf_3)"
   ]
  }
 ],
 "metadata": {
  "kernelspec": {
   "display_name": "venv",
   "language": "python",
   "name": "python3"
  },
  "language_info": {
   "codemirror_mode": {
    "name": "ipython",
    "version": 3
   },
   "file_extension": ".py",
   "mimetype": "text/x-python",
   "name": "python",
   "nbconvert_exporter": "python",
   "pygments_lexer": "ipython3",
   "version": "3.8.0"
  },
  "orig_nbformat": 4,
  "vscode": {
   "interpreter": {
    "hash": "c0909adf0ea369aca2053b3afd7fc8dce75900dfd45cf448be3584da3a070114"
   }
  }
 },
 "nbformat": 4,
 "nbformat_minor": 2
}
